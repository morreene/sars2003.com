{
 "cells": [
  {
   "cell_type": "code",
   "execution_count": 6,
   "metadata": {},
   "outputs": [],
   "source": [
    "import pandas as pd\n",
    "import plotly"
   ]
  },
  {
   "cell_type": "code",
   "execution_count": 7,
   "metadata": {},
   "outputs": [
    {
     "name": "stdout",
     "output_type": "stream",
     "text": [
      "(1097, 14)\n"
     ]
    },
    {
     "data": {
      "text/html": [
       "<div>\n",
       "<style scoped>\n",
       "    .dataframe tbody tr th:only-of-type {\n",
       "        vertical-align: middle;\n",
       "    }\n",
       "\n",
       "    .dataframe tbody tr th {\n",
       "        vertical-align: top;\n",
       "    }\n",
       "\n",
       "    .dataframe thead th {\n",
       "        text-align: right;\n",
       "    }\n",
       "</style>\n",
       "<table border=\"1\" class=\"dataframe\">\n",
       "  <thead>\n",
       "    <tr style=\"text-align: right;\">\n",
       "      <th></th>\n",
       "      <th>DateStr</th>\n",
       "      <th>Date</th>\n",
       "      <th>省别</th>\n",
       "      <th>临床诊断病例-新增</th>\n",
       "      <th>临床诊断病例-累计</th>\n",
       "      <th>其中医务人员-新增</th>\n",
       "      <th>其中医务人员-累计</th>\n",
       "      <th>出院人数-新增</th>\n",
       "      <th>出院人数-累计</th>\n",
       "      <th>死亡人数-新增</th>\n",
       "      <th>死亡人数-累计</th>\n",
       "      <th>疑似病例-新增</th>\n",
       "      <th>疑似病例-排除</th>\n",
       "      <th>合计</th>\n",
       "    </tr>\n",
       "  </thead>\n",
       "  <tbody>\n",
       "    <tr>\n",
       "      <th>0</th>\n",
       "      <td>A-2003-04-26</td>\n",
       "      <td>2003-04-26</td>\n",
       "      <td>北京</td>\n",
       "      <td>113</td>\n",
       "      <td>988</td>\n",
       "      <td>7.0</td>\n",
       "      <td>167.0</td>\n",
       "      <td>3</td>\n",
       "      <td>76</td>\n",
       "      <td>6</td>\n",
       "      <td>48</td>\n",
       "      <td>173</td>\n",
       "      <td>NaN</td>\n",
       "      <td>1093</td>\n",
       "    </tr>\n",
       "    <tr>\n",
       "      <th>1</th>\n",
       "      <td>A-2003-04-26</td>\n",
       "      <td>2003-04-26</td>\n",
       "      <td>天津</td>\n",
       "      <td>1</td>\n",
       "      <td>22</td>\n",
       "      <td>0.0</td>\n",
       "      <td>10.0</td>\n",
       "      <td>0</td>\n",
       "      <td>0</td>\n",
       "      <td>0</td>\n",
       "      <td>2</td>\n",
       "      <td>27</td>\n",
       "      <td>NaN</td>\n",
       "      <td>53</td>\n",
       "    </tr>\n",
       "    <tr>\n",
       "      <th>2</th>\n",
       "      <td>A-2003-04-26</td>\n",
       "      <td>2003-04-26</td>\n",
       "      <td>河北</td>\n",
       "      <td>3</td>\n",
       "      <td>21</td>\n",
       "      <td>0.0</td>\n",
       "      <td>5.0</td>\n",
       "      <td>0</td>\n",
       "      <td>0</td>\n",
       "      <td>0</td>\n",
       "      <td>0</td>\n",
       "      <td>9</td>\n",
       "      <td>NaN</td>\n",
       "      <td>31</td>\n",
       "    </tr>\n",
       "    <tr>\n",
       "      <th>3</th>\n",
       "      <td>A-2003-04-26</td>\n",
       "      <td>2003-04-26</td>\n",
       "      <td>山西</td>\n",
       "      <td>22</td>\n",
       "      <td>195</td>\n",
       "      <td>1.0</td>\n",
       "      <td>47.0</td>\n",
       "      <td>0</td>\n",
       "      <td>14</td>\n",
       "      <td>0</td>\n",
       "      <td>8</td>\n",
       "      <td>18</td>\n",
       "      <td>NaN</td>\n",
       "      <td>135</td>\n",
       "    </tr>\n",
       "    <tr>\n",
       "      <th>4</th>\n",
       "      <td>A-2003-04-26</td>\n",
       "      <td>2003-04-26</td>\n",
       "      <td>内蒙古</td>\n",
       "      <td>4</td>\n",
       "      <td>74</td>\n",
       "      <td>0.0</td>\n",
       "      <td>13.0</td>\n",
       "      <td>0</td>\n",
       "      <td>0</td>\n",
       "      <td>0</td>\n",
       "      <td>6</td>\n",
       "      <td>18</td>\n",
       "      <td>NaN</td>\n",
       "      <td>144</td>\n",
       "    </tr>\n",
       "  </tbody>\n",
       "</table>\n",
       "</div>"
      ],
      "text/plain": [
       "        DateStr       Date   省别  临床诊断病例-新增  临床诊断病例-累计  其中医务人员-新增  其中医务人员-累计  \\\n",
       "0  A-2003-04-26 2003-04-26   北京        113        988        7.0      167.0   \n",
       "1  A-2003-04-26 2003-04-26   天津          1         22        0.0       10.0   \n",
       "2  A-2003-04-26 2003-04-26   河北          3         21        0.0        5.0   \n",
       "3  A-2003-04-26 2003-04-26   山西         22        195        1.0       47.0   \n",
       "4  A-2003-04-26 2003-04-26  内蒙古          4         74        0.0       13.0   \n",
       "\n",
       "   出院人数-新增  出院人数-累计  死亡人数-新增  死亡人数-累计  疑似病例-新增  疑似病例-排除    合计  \n",
       "0        3       76        6       48      173      NaN  1093  \n",
       "1        0        0        0        2       27      NaN    53  \n",
       "2        0        0        0        0        9      NaN    31  \n",
       "3        0       14        0        8       18      NaN   135  \n",
       "4        0        0        0        6       18      NaN   144  "
      ]
     },
     "execution_count": 7,
     "metadata": {},
     "output_type": "execute_result"
    }
   ],
   "source": [
    "df = pd.read_excel('data.xlsx',sheet_name='Processed')\n",
    "print(df.shape)\n",
    "df.head()"
   ]
  },
  {
   "cell_type": "code",
   "execution_count": 8,
   "metadata": {},
   "outputs": [
    {
     "data": {
      "text/plain": [
       "DateStr              object\n",
       "Date         datetime64[ns]\n",
       "省别                   object\n",
       "临床诊断病例-新增             int64\n",
       "临床诊断病例-累计             int64\n",
       "其中医务人员-新增           float64\n",
       "其中医务人员-累计           float64\n",
       "出院人数-新增               int64\n",
       "出院人数-累计               int64\n",
       "死亡人数-新增               int64\n",
       "死亡人数-累计               int64\n",
       "疑似病例-新增               int64\n",
       "疑似病例-排除             float64\n",
       "合计                    int64\n",
       "dtype: object"
      ]
     },
     "execution_count": 8,
     "metadata": {},
     "output_type": "execute_result"
    }
   ],
   "source": [
    "df.dtypes"
   ]
  },
  {
   "cell_type": "code",
   "execution_count": null,
   "metadata": {},
   "outputs": [],
   "source": []
  }
 ],
 "metadata": {
  "kernelspec": {
   "display_name": "base",
   "language": "python",
   "name": "python3"
  },
  "language_info": {
   "codemirror_mode": {
    "name": "ipython",
    "version": 3
   },
   "file_extension": ".py",
   "mimetype": "text/x-python",
   "name": "python",
   "nbconvert_exporter": "python",
   "pygments_lexer": "ipython3",
   "version": "3.9.13"
  },
  "orig_nbformat": 4
 },
 "nbformat": 4,
 "nbformat_minor": 2
}
