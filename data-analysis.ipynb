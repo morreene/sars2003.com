{
 "cells": [
  {
   "cell_type": "code",
   "execution_count": 1,
   "metadata": {},
   "outputs": [],
   "source": [
    "import pandas as pd\n",
    "import plotly"
   ]
  },
  {
   "cell_type": "code",
   "execution_count": 11,
   "metadata": {},
   "outputs": [
    {
     "name": "stdout",
     "output_type": "stream",
     "text": [
      "(1097, 13)\n"
     ]
    },
    {
     "data": {
      "text/html": [
       "<div>\n",
       "<style scoped>\n",
       "    .dataframe tbody tr th:only-of-type {\n",
       "        vertical-align: middle;\n",
       "    }\n",
       "\n",
       "    .dataframe tbody tr th {\n",
       "        vertical-align: top;\n",
       "    }\n",
       "\n",
       "    .dataframe thead th {\n",
       "        text-align: right;\n",
       "    }\n",
       "</style>\n",
       "<table border=\"1\" class=\"dataframe\">\n",
       "  <thead>\n",
       "    <tr style=\"text-align: right;\">\n",
       "      <th></th>\n",
       "      <th>Date</th>\n",
       "      <th>省别</th>\n",
       "      <th>临床诊断病例-新增</th>\n",
       "      <th>临床诊断病例-累计</th>\n",
       "      <th>其中医务人员-新增</th>\n",
       "      <th>其中医务人员-累计</th>\n",
       "      <th>出院人数-新增</th>\n",
       "      <th>出院人数-累计</th>\n",
       "      <th>死亡人数-新增</th>\n",
       "      <th>死亡人数-累计</th>\n",
       "      <th>疑似病例-新增</th>\n",
       "      <th>疑似病例-排除</th>\n",
       "      <th>合计</th>\n",
       "    </tr>\n",
       "  </thead>\n",
       "  <tbody>\n",
       "    <tr>\n",
       "      <th>0</th>\n",
       "      <td>2003-04-26</td>\n",
       "      <td>北京</td>\n",
       "      <td>113</td>\n",
       "      <td>988</td>\n",
       "      <td>7.0</td>\n",
       "      <td>167.0</td>\n",
       "      <td>3</td>\n",
       "      <td>76</td>\n",
       "      <td>6</td>\n",
       "      <td>48</td>\n",
       "      <td>173</td>\n",
       "      <td>NaN</td>\n",
       "      <td>1093</td>\n",
       "    </tr>\n",
       "    <tr>\n",
       "      <th>1</th>\n",
       "      <td>2003-04-26</td>\n",
       "      <td>天津</td>\n",
       "      <td>1</td>\n",
       "      <td>22</td>\n",
       "      <td>0.0</td>\n",
       "      <td>10.0</td>\n",
       "      <td>0</td>\n",
       "      <td>0</td>\n",
       "      <td>0</td>\n",
       "      <td>2</td>\n",
       "      <td>27</td>\n",
       "      <td>NaN</td>\n",
       "      <td>53</td>\n",
       "    </tr>\n",
       "    <tr>\n",
       "      <th>2</th>\n",
       "      <td>2003-04-26</td>\n",
       "      <td>河北</td>\n",
       "      <td>3</td>\n",
       "      <td>21</td>\n",
       "      <td>0.0</td>\n",
       "      <td>5.0</td>\n",
       "      <td>0</td>\n",
       "      <td>0</td>\n",
       "      <td>0</td>\n",
       "      <td>0</td>\n",
       "      <td>9</td>\n",
       "      <td>NaN</td>\n",
       "      <td>31</td>\n",
       "    </tr>\n",
       "    <tr>\n",
       "      <th>3</th>\n",
       "      <td>2003-04-26</td>\n",
       "      <td>山西</td>\n",
       "      <td>22</td>\n",
       "      <td>195</td>\n",
       "      <td>1.0</td>\n",
       "      <td>47.0</td>\n",
       "      <td>0</td>\n",
       "      <td>14</td>\n",
       "      <td>0</td>\n",
       "      <td>8</td>\n",
       "      <td>18</td>\n",
       "      <td>NaN</td>\n",
       "      <td>135</td>\n",
       "    </tr>\n",
       "    <tr>\n",
       "      <th>4</th>\n",
       "      <td>2003-04-26</td>\n",
       "      <td>内蒙古</td>\n",
       "      <td>4</td>\n",
       "      <td>74</td>\n",
       "      <td>0.0</td>\n",
       "      <td>13.0</td>\n",
       "      <td>0</td>\n",
       "      <td>0</td>\n",
       "      <td>0</td>\n",
       "      <td>6</td>\n",
       "      <td>18</td>\n",
       "      <td>NaN</td>\n",
       "      <td>144</td>\n",
       "    </tr>\n",
       "  </tbody>\n",
       "</table>\n",
       "</div>"
      ],
      "text/plain": [
       "        Date   省别  临床诊断病例-新增  临床诊断病例-累计  其中医务人员-新增  其中医务人员-累计  出院人数-新增  \\\n",
       "0 2003-04-26   北京        113        988        7.0      167.0        3   \n",
       "1 2003-04-26   天津          1         22        0.0       10.0        0   \n",
       "2 2003-04-26   河北          3         21        0.0        5.0        0   \n",
       "3 2003-04-26   山西         22        195        1.0       47.0        0   \n",
       "4 2003-04-26  内蒙古          4         74        0.0       13.0        0   \n",
       "\n",
       "   出院人数-累计  死亡人数-新增  死亡人数-累计  疑似病例-新增  疑似病例-排除    合计  \n",
       "0       76        6       48      173      NaN  1093  \n",
       "1        0        0        2       27      NaN    53  \n",
       "2        0        0        0        9      NaN    31  \n",
       "3       14        0        8       18      NaN   135  \n",
       "4        0        0        6       18      NaN   144  "
      ]
     },
     "execution_count": 11,
     "metadata": {},
     "output_type": "execute_result"
    }
   ],
   "source": [
    "df = pd.read_excel('data-original-20230820.xlsx',sheet_name='Processed')\n",
    "df['省别'] = df['省别'].str.strip()\n",
    "print(df.shape)\n",
    "df.head()"
   ]
  },
  {
   "cell_type": "code",
   "execution_count": 12,
   "metadata": {},
   "outputs": [
    {
     "data": {
      "text/plain": [
       "Date         datetime64[ns]\n",
       "省别                   object\n",
       "临床诊断病例-新增             int64\n",
       "临床诊断病例-累计             int64\n",
       "其中医务人员-新增           float64\n",
       "其中医务人员-累计           float64\n",
       "出院人数-新增               int64\n",
       "出院人数-累计               int64\n",
       "死亡人数-新增               int64\n",
       "死亡人数-累计               int64\n",
       "疑似病例-新增               int64\n",
       "疑似病例-排除             float64\n",
       "合计                    int64\n",
       "dtype: object"
      ]
     },
     "execution_count": 12,
     "metadata": {},
     "output_type": "execute_result"
    }
   ],
   "source": [
    "df.dtypes"
   ]
  },
  {
   "cell_type": "code",
   "execution_count": 13,
   "metadata": {},
   "outputs": [
    {
     "data": {
      "text/plain": [
       "Index(['Date', '省别', '临床诊断病例-新增', '临床诊断病例-累计', '其中医务人员-新增', '其中医务人员-累计',\n",
       "       '出院人数-新增', '出院人数-累计', '死亡人数-新增', '死亡人数-累计', '疑似病例-新增', '疑似病例-排除', '合计'],\n",
       "      dtype='object')"
      ]
     },
     "execution_count": 13,
     "metadata": {},
     "output_type": "execute_result"
    }
   ],
   "source": [
    "df.columns"
   ]
  },
  {
   "cell_type": "code",
   "execution_count": 14,
   "metadata": {},
   "outputs": [],
   "source": [
    "column_mapping = {\n",
    "    'Date': 'Date',\n",
    "    '省别': 'Province',\n",
    "    '临床诊断病例-新增': 'New Clinical Cases',\n",
    "    '临床诊断病例-累计': 'Total Clinical Cases',\n",
    "    '其中医务人员-新增': 'New Cases Among Medical Staff',\n",
    "    '其中医务人员-累计': 'Total Cases Among Medical Staff',\n",
    "    '出院人数-新增': 'New Discharged',\n",
    "    '出院人数-累计': 'Total Discharged',\n",
    "    '死亡人数-新增': 'New Deaths',\n",
    "    '死亡人数-累计': 'Total Deaths',\n",
    "    '疑似病例-新增': 'New Suspected Cases',\n",
    "    '疑似病例-排除': 'Excluded Suspected Cases',\n",
    "    '合计': 'Total'\n",
    "}\n",
    "\n",
    "# Rename columns\n",
    "df.rename(columns=column_mapping, inplace=True)"
   ]
  },
  {
   "cell_type": "code",
   "execution_count": 18,
   "metadata": {},
   "outputs": [],
   "source": [
    "# Mapping from Chinese to English\n",
    "province_mapping = {\n",
    "    '北京': 'Beijing',\n",
    "    '天津': 'Tianjin',\n",
    "    '河北': 'Hebei',\n",
    "    '山西': 'Shanxi',\n",
    "    '内蒙古': 'Inner Mongolia',\n",
    "    '辽宁': 'Liaoning',\n",
    "    '吉林': 'Jilin',\n",
    "    '黑龙江': 'Heilongjiang',\n",
    "    '上海': 'Shanghai',\n",
    "    '江苏': 'Jiangsu',\n",
    "    '浙江': 'Zhejiang',\n",
    "    '安徽': 'Anhui',\n",
    "    '福建': 'Fujian',\n",
    "    '江西': 'Jiangxi',\n",
    "    '山东': 'Shandong',\n",
    "    '河南': 'Henan',\n",
    "    '湖北': 'Hubei',\n",
    "    '湖南': 'Hunan',\n",
    "    '广东': 'Guangdong',\n",
    "    '广西': 'Guangxi',\n",
    "    '重庆': 'Chongqing',\n",
    "    '四川': 'Sichuan',\n",
    "    '陕西': 'Shaanxi',\n",
    "    '甘肃': 'Gansu',\n",
    "    '宁夏': 'Ningxia',\n",
    "    '新疆': 'Xinjiang',\n",
    "    '合计': 'Total',\n",
    "    '累计': 'Cumulative'\n",
    "}\n",
    "\n",
    "# Apply mapping to the \"Province\" column\n",
    "df['Province'] = df['Province'].map(province_mapping)"
   ]
  },
  {
   "cell_type": "code",
   "execution_count": 23,
   "metadata": {},
   "outputs": [],
   "source": [
    "data = df[['Date', 'Province', 'New Clinical Cases', 'Total Clinical Cases','New Cases Among Medical Staff', 'Total Cases Among Medical Staff','New Deaths', 'Total Deaths']]\n",
    "data = data[~data['Province'].isin(['Total', 'Cumulative'])]"
   ]
  },
  {
   "cell_type": "code",
   "execution_count": 24,
   "metadata": {},
   "outputs": [],
   "source": [
    "data.to_csv('data-20230820.csv')"
   ]
  },
  {
   "cell_type": "code",
   "execution_count": null,
   "metadata": {},
   "outputs": [],
   "source": []
  }
 ],
 "metadata": {
  "kernelspec": {
   "display_name": "base",
   "language": "python",
   "name": "python3"
  },
  "language_info": {
   "codemirror_mode": {
    "name": "ipython",
    "version": 3
   },
   "file_extension": ".py",
   "mimetype": "text/x-python",
   "name": "python",
   "nbconvert_exporter": "python",
   "pygments_lexer": "ipython3",
   "version": "3.9.13"
  },
  "orig_nbformat": 4
 },
 "nbformat": 4,
 "nbformat_minor": 2
}
